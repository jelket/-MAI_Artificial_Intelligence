{
 "cells": [
  {
   "cell_type": "markdown",
   "id": "b23083ac",
   "metadata": {},
   "source": [
    "# Лабораторная работа по курсу \"Искусственный интеллект\""
   ]
  },
  {
   "cell_type": "markdown",
   "id": "65bf3782",
   "metadata": {
    "id": "65bf3782"
   },
   "source": [
    "## Многослойный персептрон"
   ]
  },
  {
   "cell_type": "markdown",
   "id": "9d5f4d7f",
   "metadata": {},
   "source": [
    "Студент: Аминов Степан"
   ]
  },
  {
   "cell_type": "markdown",
   "id": "a936e73a",
   "metadata": {},
   "source": [
    "Группа: М8О-408Б-19"
   ]
  },
  {
   "cell_type": "markdown",
   "id": "f9a211da",
   "metadata": {
    "id": "f9a211da"
   },
   "source": [
    "Постановка задачи: Решить задачу классификации для датасетов MNIST, FashionMNIST, CIFAR-10 с помощью 1, 2 и 3-слойного персептрона на основе нейросетефого фреймворка Pytorch\n"
   ]
  },
  {
   "cell_type": "code",
   "execution_count": 1,
   "id": "aef6a2f5",
   "metadata": {
    "id": "aef6a2f5"
   },
   "outputs": [],
   "source": [
    "from keras.datasets.mnist import load_data as mnist_data\n",
    "from keras.datasets.fashion_mnist import load_data as fmnist_data\n",
    "from keras.datasets.cifar10 import load_data as cifar_data\n",
    "import torch\n",
    "import torch.nn as nn\n",
    "import torch.optim as optim\n",
    "from torch.optim import lr_scheduler\n",
    "import torch.backends.cudnn as cudnn\n",
    "import numpy as np\n",
    "import time\n",
    "import os\n",
    "import matplotlib.pyplot as plt \n",
    "import copy\n",
    "import torchvision\n",
    "from torchvision import datasets, transforms\n"
   ]
  },
  {
   "cell_type": "markdown",
   "id": "e6b3f735",
   "metadata": {
    "id": "e6b3f735"
   },
   "source": [
    "## Dataset MNIST"
   ]
  },
  {
   "cell_type": "markdown",
   "id": "1e58c9b8",
   "metadata": {
    "id": "1e58c9b8"
   },
   "source": [
    "### Один слой"
   ]
  },
  {
   "cell_type": "code",
   "execution_count": 2,
   "id": "af70dd0a",
   "metadata": {
    "id": "af70dd0a"
   },
   "outputs": [],
   "source": [
    "dataloaders = {'train':torch.utils.data.DataLoader(torchvision.datasets.MNIST(root=os.getcwd(),download=True,train=True,\n",
    "                                                                             \n",
    "                                                  transform=transforms.Compose([\n",
    "                                                              transforms.ToTensor()])),batch_size=512),\n",
    "               'val':torch.utils.data.DataLoader(torchvision.datasets.MNIST(root=os.getcwd(),download=True,train=False,\n",
    "                                                                           \n",
    "                                                  transform=transforms.Compose([\n",
    "                                                              transforms.ToTensor()])),batch_size=512)}\n",
    "    \n",
    "    \n",
    "dataset_sizes = {'train':60000,'val':10000}"
   ]
  },
  {
   "cell_type": "code",
   "execution_count": 90,
   "id": "8b9d443d",
   "metadata": {
    "id": "8b9d443d"
   },
   "outputs": [],
   "source": [
    "def train_model(model, criterion, optimizer, scheduler, num_epochs=25):\n",
    "    since = time.time()\n",
    "\n",
    "    best_model_wts = copy.deepcopy(model.state_dict())\n",
    "    best_acc = 0.0\n",
    "\n",
    "    for epoch in range(num_epochs):\n",
    "        print(f'Epoch {epoch}/{num_epochs - 1}')\n",
    "        print('-' * 10)\n",
    "\n",
    "        # Each epoch has a training and validation phase\n",
    "        for phase in ['train', 'val']:\n",
    "            if phase == 'train':\n",
    "                model.train()  # Set model to training mode\n",
    "            else:\n",
    "                model.eval()   # Set model to evaluate mode\n",
    "\n",
    "            running_loss = 0.0\n",
    "            running_corrects = 0\n",
    "\n",
    "            # Iterate over data.\n",
    "            for inputs, labels in dataloaders[phase]:\n",
    "                \n",
    "                inputs = inputs.cuda()\n",
    "                labels = labels.cuda()\n",
    "                # zero the parameter gradients\n",
    "                optimizer.zero_grad()\n",
    "\n",
    "                # forward\n",
    "                # track history if only in train\n",
    "                with torch.set_grad_enabled(phase == 'train'):\n",
    "                    outputs = model(inputs)\n",
    "                    #print(outputs)\n",
    "                    _, preds = torch.max(outputs, 1)\n",
    "                    loss = criterion(outputs, labels)\n",
    "\n",
    "                    # backward + optimize only if in training phase\n",
    "                    if phase == 'train':\n",
    "                        loss.backward()\n",
    "                        optimizer.step()\n",
    "\n",
    "                # statistics\n",
    "                running_loss += loss.item() * inputs.size(0)\n",
    "                running_corrects += torch.sum(preds == labels.data)\n",
    "            if phase == 'train':\n",
    "                scheduler.step()\n",
    "\n",
    "            epoch_loss = running_loss / dataset_sizes[phase]\n",
    "            epoch_acc = running_corrects.double() / dataset_sizes[phase]\n",
    "\n",
    "            print(f'{phase} Loss: {epoch_loss:.4f} Acc: {epoch_acc:.4f}')\n",
    "\n",
    "            # deep copy the model\n",
    "            if phase == 'val' and epoch_acc > best_acc:\n",
    "                best_acc = epoch_acc\n",
    "                best_model_wts = copy.deepcopy(model.state_dict())\n",
    "\n",
    "        print()\n",
    "\n",
    "    time_elapsed = time.time() - since\n",
    "    print(f'Training complete in {time_elapsed // 60:.0f}m {time_elapsed % 60:.0f}s')\n",
    "    print(f'Best val Acc: {best_acc:4f}')\n",
    "\n",
    "    # load best model weights\n",
    "    model.load_state_dict(best_model_wts)\n",
    "    return model"
   ]
  },
  {
   "cell_type": "code",
   "execution_count": 5,
   "id": "24149985",
   "metadata": {
    "colab": {
     "base_uri": "https://localhost:8080/"
    },
    "id": "24149985",
    "outputId": "c62b97f8-242a-4f50-a199-5d09c13953b9"
   },
   "outputs": [
    {
     "name": "stdout",
     "output_type": "stream",
     "text": [
      "Epoch 0/7\n",
      "----------\n"
     ]
    },
    {
     "name": "stderr",
     "output_type": "stream",
     "text": [
      "/usr/local/lib/python3.7/dist-packages/torch/nn/functional.py:1933: UserWarning: nn.functional.tanh is deprecated. Use torch.tanh instead.\n",
      "  warnings.warn(\"nn.functional.tanh is deprecated. Use torch.tanh instead.\")\n",
      "/usr/local/lib/python3.7/dist-packages/ipykernel_launcher.py:17: UserWarning: Implicit dimension choice for softmax has been deprecated. Change the call to include dim=X as an argument.\n"
     ]
    },
    {
     "name": "stdout",
     "output_type": "stream",
     "text": [
      "train Loss: 2.2829 Acc: 0.3653\n",
      "val Loss: 2.2398 Acc: 0.3800\n",
      "\n",
      "Epoch 1/7\n",
      "----------\n",
      "train Loss: 2.1219 Acc: 0.4675\n",
      "val Loss: 1.9652 Acc: 0.5777\n",
      "\n",
      "Epoch 2/7\n",
      "----------\n",
      "train Loss: 1.8788 Acc: 0.6318\n",
      "val Loss: 1.8147 Acc: 0.6661\n",
      "\n",
      "Epoch 3/7\n",
      "----------\n",
      "train Loss: 1.7633 Acc: 0.7586\n",
      "val Loss: 1.7082 Acc: 0.8124\n",
      "\n",
      "Epoch 4/7\n",
      "----------\n",
      "train Loss: 1.6896 Acc: 0.8194\n",
      "val Loss: 1.6513 Acc: 0.8688\n",
      "\n",
      "Epoch 5/7\n",
      "----------\n",
      "train Loss: 1.6403 Acc: 0.8690\n",
      "val Loss: 1.6177 Acc: 0.8848\n",
      "\n",
      "Epoch 6/7\n",
      "----------\n",
      "train Loss: 1.6155 Acc: 0.8812\n",
      "val Loss: 1.6001 Acc: 0.8931\n",
      "\n",
      "Epoch 7/7\n",
      "----------\n",
      "train Loss: 1.6059 Acc: 0.8865\n",
      "val Loss: 1.5985 Acc: 0.8930\n",
      "\n",
      "Training complete in 1m 16s\n",
      "Best val Acc: 0.893100\n"
     ]
    }
   ],
   "source": [
    "import torch.nn as nn\n",
    "import torch.nn.functional as F\n",
    "device = torch.device(\"cuda:0\" if torch.cuda.is_available() else \"cpu\")\n",
    "class MyConvNet(nn.Module):\n",
    "    def __init__(self):\n",
    "        super(MyConvNet, self).__init__()\n",
    "        self.fc1 = nn.Linear(in_features=28*28,out_features= 512)\n",
    "        self.fc2 = nn.Linear(in_features=512,out_features= 512)\n",
    "        self.fc3 = nn.Linear(in_features=512, out_features=10)\n",
    "        \n",
    "    def forward(self, x):\n",
    "        x = x.view(-1,28*28)\n",
    "        x = self.fc1(x)\n",
    "        x = F.tanh(self.fc2(x))\n",
    "        x = self.fc3(x)\n",
    "\n",
    "        return F.softmax(x)\n",
    "\n",
    "\n",
    "    \n",
    "model_ft = MyConvNet()\n",
    "\n",
    "\n",
    "model_ft = model_ft.to(device)\n",
    "\n",
    "criterion = nn.CrossEntropyLoss()\n",
    "\n",
    "# Observe that all parameters are being optimized\n",
    "optimizer_ft = optim.SGD(model_ft.parameters(), lr=0.01, momentum=0.9)\n",
    "\n",
    "# Decay LR by a factor of 0.1 every 7 epochs\n",
    "exp_lr_scheduler = lr_scheduler.StepLR(optimizer_ft, step_size=7, gamma=0.1)\n",
    "model_ft = train_model(model_ft, criterion, optimizer_ft, exp_lr_scheduler,\n",
    "                       num_epochs=8)"
   ]
  },
  {
   "cell_type": "markdown",
   "id": "335bb1d2",
   "metadata": {
    "id": "335bb1d2"
   },
   "source": [
    "### Два слоя"
   ]
  },
  {
   "cell_type": "code",
   "execution_count": 7,
   "id": "a0ec422a",
   "metadata": {
    "colab": {
     "base_uri": "https://localhost:8080/"
    },
    "id": "a0ec422a",
    "outputId": "f7593856-b542-4a67-d860-2fe9a38a8896"
   },
   "outputs": [
    {
     "name": "stdout",
     "output_type": "stream",
     "text": [
      "Epoch 0/7\n",
      "----------\n"
     ]
    },
    {
     "name": "stderr",
     "output_type": "stream",
     "text": [
      "/usr/local/lib/python3.7/dist-packages/torch/nn/functional.py:1933: UserWarning: nn.functional.tanh is deprecated. Use torch.tanh instead.\n",
      "  warnings.warn(\"nn.functional.tanh is deprecated. Use torch.tanh instead.\")\n",
      "/usr/local/lib/python3.7/dist-packages/ipykernel_launcher.py:21: UserWarning: Implicit dimension choice for softmax has been deprecated. Change the call to include dim=X as an argument.\n"
     ]
    },
    {
     "name": "stdout",
     "output_type": "stream",
     "text": [
      "train Loss: 2.0052 Acc: 0.5274\n",
      "val Loss: 1.6584 Acc: 0.8142\n",
      "\n",
      "Epoch 1/7\n",
      "----------\n",
      "train Loss: 1.6375 Acc: 0.8290\n",
      "val Loss: 1.6186 Acc: 0.8460\n",
      "\n",
      "Epoch 2/7\n",
      "----------\n",
      "train Loss: 1.6178 Acc: 0.8462\n",
      "val Loss: 1.6108 Acc: 0.8519\n",
      "\n",
      "Epoch 3/7\n",
      "----------\n",
      "train Loss: 1.6094 Acc: 0.8541\n",
      "val Loss: 1.6066 Acc: 0.8559\n",
      "\n",
      "Epoch 4/7\n",
      "----------\n",
      "train Loss: 1.6041 Acc: 0.8585\n",
      "val Loss: 1.6045 Acc: 0.8577\n",
      "\n",
      "Epoch 5/7\n",
      "----------\n",
      "train Loss: 1.5893 Acc: 0.8737\n",
      "val Loss: 1.5479 Acc: 0.9179\n",
      "\n",
      "Epoch 6/7\n",
      "----------\n",
      "train Loss: 1.5389 Acc: 0.9264\n",
      "val Loss: 1.5315 Acc: 0.9323\n",
      "\n",
      "Epoch 7/7\n",
      "----------\n",
      "train Loss: 1.5271 Acc: 0.9376\n",
      "val Loss: 1.5289 Acc: 0.9349\n",
      "\n",
      "Training complete in 1m 19s\n",
      "Best val Acc: 0.934900\n"
     ]
    }
   ],
   "source": [
    "import torch.nn as nn\n",
    "import torch.nn.functional as F\n",
    "device = torch.device(\"cuda:0\" if torch.cuda.is_available() else \"cpu\")\n",
    "class MyConvNet(nn.Module):\n",
    "    def __init__(self):\n",
    "        super(MyConvNet, self).__init__()\n",
    "        self.fc1 = nn.Linear(in_features=28*28,out_features= 512)\n",
    "        self.fc2 = nn.Linear(in_features=512,out_features= 512)\n",
    "        self.fc3 = nn.Linear(in_features=512,out_features= 1024)\n",
    "\n",
    "        self.fc4 = nn.Linear(in_features=1024, out_features=10)\n",
    "        \n",
    "    def forward(self, x):\n",
    "        x = x.view(-1,28*28)\n",
    "        x = self.fc1(x)\n",
    "        x = F.relu(self.fc2(x))\n",
    "        x = F.tanh(self.fc3(x))\n",
    "\n",
    "        x = self.fc4(x)\n",
    "\n",
    "        return F.softmax(x)\n",
    "\n",
    "\n",
    "    \n",
    "model_ft = MyConvNet()\n",
    "\n",
    "\n",
    "model_ft = model_ft.to(device)\n",
    "\n",
    "criterion = nn.CrossEntropyLoss()\n",
    "\n",
    "# Observe that all parameters are being optimized\n",
    "optimizer_ft = optim.SGD(model_ft.parameters(), lr=0.1, momentum=0.9)\n",
    "\n",
    "# Decay LR by a factor of 0.1 every 7 epochs\n",
    "exp_lr_scheduler = lr_scheduler.StepLR(optimizer_ft, step_size=7, gamma=0.1)\n",
    "model_ft = train_model(model_ft, criterion, optimizer_ft, exp_lr_scheduler,\n",
    "                       num_epochs=8)"
   ]
  },
  {
   "cell_type": "markdown",
   "id": "f43a62f6",
   "metadata": {
    "id": "f43a62f6"
   },
   "source": [
    "# Три слоя"
   ]
  },
  {
   "cell_type": "code",
   "execution_count": 8,
   "id": "e94df705",
   "metadata": {
    "colab": {
     "base_uri": "https://localhost:8080/"
    },
    "id": "e94df705",
    "outputId": "f6a931a8-8ad5-458e-a15a-5b2712c3803e"
   },
   "outputs": [
    {
     "name": "stdout",
     "output_type": "stream",
     "text": [
      "Epoch 0/7\n",
      "----------\n"
     ]
    },
    {
     "name": "stderr",
     "output_type": "stream",
     "text": [
      "/usr/local/lib/python3.7/dist-packages/torch/nn/functional.py:1933: UserWarning: nn.functional.tanh is deprecated. Use torch.tanh instead.\n",
      "  warnings.warn(\"nn.functional.tanh is deprecated. Use torch.tanh instead.\")\n",
      "/usr/local/lib/python3.7/dist-packages/ipykernel_launcher.py:23: UserWarning: Implicit dimension choice for softmax has been deprecated. Change the call to include dim=X as an argument.\n"
     ]
    },
    {
     "name": "stdout",
     "output_type": "stream",
     "text": [
      "train Loss: 2.2134 Acc: 0.2865\n",
      "val Loss: 1.8811 Acc: 0.5770\n",
      "\n",
      "Epoch 1/7\n",
      "----------\n",
      "train Loss: 1.7133 Acc: 0.7554\n",
      "val Loss: 1.6499 Acc: 0.8148\n",
      "\n",
      "Epoch 2/7\n",
      "----------\n",
      "train Loss: 1.6091 Acc: 0.8558\n",
      "val Loss: 1.5687 Acc: 0.8977\n",
      "\n",
      "Epoch 3/7\n",
      "----------\n",
      "train Loss: 1.5587 Acc: 0.9062\n",
      "val Loss: 1.5432 Acc: 0.9211\n",
      "\n",
      "Epoch 4/7\n",
      "----------\n",
      "train Loss: 1.5437 Acc: 0.9201\n",
      "val Loss: 1.5356 Acc: 0.9280\n",
      "\n",
      "Epoch 5/7\n",
      "----------\n",
      "train Loss: 1.5323 Acc: 0.9311\n",
      "val Loss: 1.5266 Acc: 0.9368\n",
      "\n",
      "Epoch 6/7\n",
      "----------\n",
      "train Loss: 1.5237 Acc: 0.9398\n",
      "val Loss: 1.5213 Acc: 0.9422\n",
      "\n",
      "Epoch 7/7\n",
      "----------\n",
      "train Loss: 1.5141 Acc: 0.9495\n",
      "val Loss: 1.5144 Acc: 0.9478\n",
      "\n",
      "Training complete in 1m 22s\n",
      "Best val Acc: 0.947800\n"
     ]
    }
   ],
   "source": [
    "import torch.nn as nn\n",
    "import torch.nn.functional as F\n",
    "device = torch.device(\"cuda:0\" if torch.cuda.is_available() else \"cpu\")\n",
    "class MyConvNet(nn.Module):\n",
    "    def __init__(self):\n",
    "        super(MyConvNet, self).__init__()\n",
    "        self.fc1 = nn.Linear(in_features=28*28,out_features= 512)\n",
    "        self.fc2 = nn.Linear(in_features=512,out_features= 512)\n",
    "        self.fc3 = nn.Linear(in_features=512,out_features= 1024)\n",
    "        self.fc4 = nn.Linear(in_features=1024,out_features= 1024)\n",
    "\n",
    "\n",
    "        self.fc5 = nn.Linear(in_features=1024, out_features=10)\n",
    "        \n",
    "    def forward(self, x):\n",
    "        x = x.view(-1,28*28)\n",
    "        x = self.fc1(x)\n",
    "        x = F.relu(self.fc2(x))\n",
    "        x = F.relu(self.fc3(x))\n",
    "        x = F.tanh(self.fc4(x))\n",
    "        x = self.fc5(x)\n",
    "\n",
    "        return F.softmax(x)\n",
    "\n",
    "\n",
    "    \n",
    "model_ft = MyConvNet()\n",
    "\n",
    "\n",
    "model_ft = model_ft.to(device)\n",
    "\n",
    "criterion = nn.CrossEntropyLoss()\n",
    "\n",
    "# Observe that all parameters are being optimized\n",
    "optimizer_ft = optim.SGD(model_ft.parameters(), lr=0.1, momentum=0.9)\n",
    "\n",
    "# Decay LR by a factor of 0.1 every 7 epochs\n",
    "exp_lr_scheduler = lr_scheduler.StepLR(optimizer_ft, step_size=7, gamma=0.1)\n",
    "model_ft = train_model(model_ft, criterion, optimizer_ft, exp_lr_scheduler,\n",
    "                       num_epochs=8)"
   ]
  },
  {
   "cell_type": "markdown",
   "id": "c868e05a",
   "metadata": {
    "id": "c868e05a"
   },
   "source": [
    "# Fmnist"
   ]
  },
  {
   "cell_type": "code",
   "execution_count": 18,
   "id": "efaa7148",
   "metadata": {
    "id": "efaa7148"
   },
   "outputs": [],
   "source": [
    "dataloaders = {'train':torch.utils.data.DataLoader(torchvision.datasets.FashionMNIST(root=os.getcwd(),download=True,train=True,\n",
    "                                                                             \n",
    "                                                  transform=transforms.Compose([\n",
    "                                                              transforms.ToTensor()])),batch_size=512),\n",
    "               'val':torch.utils.data.DataLoader(torchvision.datasets.FashionMNIST(root=os.getcwd(),download=True,train=False,\n",
    "                                                                           \n",
    "                                                  transform=transforms.Compose([\n",
    "                                                              transforms.ToTensor()])),batch_size=512)}\n",
    "    \n",
    "    \n",
    "dataset_sizes = {'train':60000,'val':10000}"
   ]
  },
  {
   "cell_type": "code",
   "execution_count": null,
   "id": "IxkzeV5jpCj1",
   "metadata": {
    "id": "IxkzeV5jpCj1"
   },
   "outputs": [],
   "source": []
  },
  {
   "cell_type": "markdown",
   "id": "aKF3eAawq1he",
   "metadata": {
    "id": "aKF3eAawq1he"
   },
   "source": [
    "# один слой "
   ]
  },
  {
   "cell_type": "code",
   "execution_count": 22,
   "id": "i09_oNLQqvjO",
   "metadata": {
    "colab": {
     "base_uri": "https://localhost:8080/"
    },
    "id": "i09_oNLQqvjO",
    "outputId": "b3c1f08a-12c0-4160-8d9e-a3800fd0198a",
    "scrolled": false
   },
   "outputs": [
    {
     "name": "stdout",
     "output_type": "stream",
     "text": [
      "Epoch 0/29\n",
      "----------\n"
     ]
    },
    {
     "name": "stderr",
     "output_type": "stream",
     "text": [
      "/usr/local/lib/python3.7/dist-packages/torch/nn/functional.py:1933: UserWarning: nn.functional.tanh is deprecated. Use torch.tanh instead.\n",
      "  warnings.warn(\"nn.functional.tanh is deprecated. Use torch.tanh instead.\")\n",
      "/usr/local/lib/python3.7/dist-packages/ipykernel_launcher.py:17: UserWarning: Implicit dimension choice for softmax has been deprecated. Change the call to include dim=X as an argument.\n"
     ]
    },
    {
     "name": "stdout",
     "output_type": "stream",
     "text": [
      "train Loss: 2.0847 Acc: 0.6831\n",
      "val Loss: 2.0423 Acc: 0.7726\n",
      "\n",
      "Epoch 1/29\n",
      "----------\n",
      "train Loss: 2.0309 Acc: 0.8159\n",
      "val Loss: 2.0274 Acc: 0.8241\n",
      "\n",
      "Epoch 2/29\n",
      "----------\n",
      "train Loss: 2.0230 Acc: 0.8347\n",
      "val Loss: 2.0271 Acc: 0.8252\n",
      "\n",
      "Epoch 3/29\n",
      "----------\n",
      "train Loss: 2.0183 Acc: 0.8460\n",
      "val Loss: 2.0232 Acc: 0.8374\n",
      "\n",
      "Epoch 4/29\n",
      "----------\n",
      "train Loss: 2.0154 Acc: 0.8516\n",
      "val Loss: 2.0223 Acc: 0.8319\n",
      "\n",
      "Epoch 5/29\n",
      "----------\n",
      "train Loss: 2.0138 Acc: 0.8567\n",
      "val Loss: 2.0188 Acc: 0.8455\n",
      "\n",
      "Epoch 6/29\n",
      "----------\n",
      "train Loss: 2.0124 Acc: 0.8602\n",
      "val Loss: 2.0172 Acc: 0.8486\n",
      "\n",
      "Epoch 7/29\n",
      "----------\n",
      "train Loss: 2.0082 Acc: 0.8693\n",
      "val Loss: 2.0150 Acc: 0.8533\n",
      "\n",
      "Epoch 8/29\n",
      "----------\n",
      "train Loss: 2.0077 Acc: 0.8709\n",
      "val Loss: 2.0147 Acc: 0.8557\n",
      "\n",
      "Epoch 9/29\n",
      "----------\n",
      "train Loss: 2.0073 Acc: 0.8718\n",
      "val Loss: 2.0146 Acc: 0.8566\n",
      "\n",
      "Epoch 10/29\n",
      "----------\n",
      "train Loss: 2.0070 Acc: 0.8722\n",
      "val Loss: 2.0145 Acc: 0.8575\n",
      "\n",
      "Epoch 11/29\n",
      "----------\n",
      "train Loss: 2.0067 Acc: 0.8728\n",
      "val Loss: 2.0143 Acc: 0.8582\n",
      "\n",
      "Epoch 12/29\n",
      "----------\n",
      "train Loss: 2.0065 Acc: 0.8736\n",
      "val Loss: 2.0141 Acc: 0.8585\n",
      "\n",
      "Epoch 13/29\n",
      "----------\n",
      "train Loss: 2.0062 Acc: 0.8743\n",
      "val Loss: 2.0140 Acc: 0.8592\n",
      "\n",
      "Epoch 14/29\n",
      "----------\n",
      "train Loss: 2.0059 Acc: 0.8754\n",
      "val Loss: 2.0139 Acc: 0.8586\n",
      "\n",
      "Epoch 15/29\n",
      "----------\n",
      "train Loss: 2.0059 Acc: 0.8752\n",
      "val Loss: 2.0139 Acc: 0.8590\n",
      "\n",
      "Epoch 16/29\n",
      "----------\n",
      "train Loss: 2.0058 Acc: 0.8751\n",
      "val Loss: 2.0139 Acc: 0.8593\n",
      "\n",
      "Epoch 17/29\n",
      "----------\n",
      "train Loss: 2.0058 Acc: 0.8752\n",
      "val Loss: 2.0138 Acc: 0.8591\n",
      "\n",
      "Epoch 18/29\n",
      "----------\n",
      "train Loss: 2.0058 Acc: 0.8752\n",
      "val Loss: 2.0138 Acc: 0.8590\n",
      "\n",
      "Epoch 19/29\n",
      "----------\n",
      "train Loss: 2.0057 Acc: 0.8752\n",
      "val Loss: 2.0138 Acc: 0.8593\n",
      "\n",
      "Epoch 20/29\n",
      "----------\n",
      "train Loss: 2.0057 Acc: 0.8752\n",
      "val Loss: 2.0138 Acc: 0.8594\n",
      "\n",
      "Epoch 21/29\n",
      "----------\n",
      "train Loss: 2.0057 Acc: 0.8756\n",
      "val Loss: 2.0138 Acc: 0.8593\n",
      "\n",
      "Epoch 22/29\n",
      "----------\n",
      "train Loss: 2.0057 Acc: 0.8757\n",
      "val Loss: 2.0138 Acc: 0.8595\n",
      "\n",
      "Epoch 23/29\n",
      "----------\n",
      "train Loss: 2.0056 Acc: 0.8756\n",
      "val Loss: 2.0138 Acc: 0.8596\n",
      "\n",
      "Epoch 24/29\n",
      "----------\n",
      "train Loss: 2.0056 Acc: 0.8756\n",
      "val Loss: 2.0138 Acc: 0.8596\n",
      "\n",
      "Epoch 25/29\n",
      "----------\n",
      "train Loss: 2.0056 Acc: 0.8756\n",
      "val Loss: 2.0138 Acc: 0.8597\n",
      "\n",
      "Epoch 26/29\n",
      "----------\n",
      "train Loss: 2.0056 Acc: 0.8757\n",
      "val Loss: 2.0138 Acc: 0.8597\n",
      "\n",
      "Epoch 27/29\n",
      "----------\n",
      "train Loss: 2.0056 Acc: 0.8757\n",
      "val Loss: 2.0138 Acc: 0.8597\n",
      "\n",
      "Epoch 28/29\n",
      "----------\n",
      "train Loss: 2.0056 Acc: 0.8757\n",
      "val Loss: 2.0138 Acc: 0.8598\n",
      "\n",
      "Epoch 29/29\n",
      "----------\n",
      "train Loss: 2.0056 Acc: 0.8757\n",
      "val Loss: 2.0138 Acc: 0.8598\n",
      "\n",
      "Training complete in 5m 1s\n",
      "Best val Acc: 0.859800\n"
     ]
    }
   ],
   "source": [
    "import torch.nn as nn\n",
    "import torch.nn.functional as F\n",
    "device = torch.device(\"cuda:0\" if torch.cuda.is_available() else \"cpu\")\n",
    "class MyConvNet(nn.Module):\n",
    "    def __init__(self):\n",
    "        super(MyConvNet, self).__init__()\n",
    "        self.fc1 = nn.Linear(in_features=28*28,out_features= 1024)\n",
    "        self.fc2 = nn.Linear(in_features=1024,out_features= 2048)\n",
    "        self.fc3 = nn.Linear(in_features=2048, out_features=10)\n",
    "        \n",
    "    def forward(self, x):\n",
    "        x = x.view(-1,28*28)\n",
    "        x = self.fc1(x)\n",
    "        x = F.relu(self.fc2(x))\n",
    "        x = F.tanh(self.fc3(x))\n",
    "\n",
    "        return F.softmax(x)\n",
    "\n",
    "\n",
    "    \n",
    "model_ft = MyConvNet()\n",
    "\n",
    "\n",
    "model_ft = model_ft.to(device)\n",
    "\n",
    "criterion = nn.CrossEntropyLoss()\n",
    "\n",
    "# Observe that all parameters are being optimized\n",
    "optimizer_ft = optim.SGD(model_ft.parameters(), lr=0.5, momentum=0.9)\n",
    "\n",
    "# Decay LR by a factor of 0.1 every 7 epochs\n",
    "exp_lr_scheduler = lr_scheduler.StepLR(optimizer_ft, step_size=7, gamma=0.1)\n",
    "model_ft = train_model(model_ft, criterion, optimizer_ft, exp_lr_scheduler,\n",
    "                       num_epochs=30)"
   ]
  },
  {
   "cell_type": "markdown",
   "id": "0yuMFRhSq_cr",
   "metadata": {
    "id": "0yuMFRhSq_cr"
   },
   "source": [
    "# два слоя \n"
   ]
  },
  {
   "cell_type": "code",
   "execution_count": 35,
   "id": "2KuNJDN0qvpw",
   "metadata": {
    "colab": {
     "base_uri": "https://localhost:8080/"
    },
    "id": "2KuNJDN0qvpw",
    "outputId": "83bc242a-85a3-4821-8eba-e289dd997c92"
   },
   "outputs": [
    {
     "name": "stdout",
     "output_type": "stream",
     "text": [
      "Epoch 0/29\n",
      "----------\n"
     ]
    },
    {
     "name": "stderr",
     "output_type": "stream",
     "text": [
      "/usr/local/lib/python3.7/dist-packages/ipykernel_launcher.py:21: UserWarning: Implicit dimension choice for softmax has been deprecated. Change the call to include dim=X as an argument.\n"
     ]
    },
    {
     "name": "stdout",
     "output_type": "stream",
     "text": [
      "train Loss: 1.9034 Acc: 0.5767\n",
      "val Loss: 1.7642 Acc: 0.6994\n",
      "\n",
      "Epoch 1/29\n",
      "----------\n",
      "train Loss: 1.6891 Acc: 0.7741\n",
      "val Loss: 1.6963 Acc: 0.7667\n",
      "\n",
      "Epoch 2/29\n",
      "----------\n",
      "train Loss: 1.6682 Acc: 0.7945\n",
      "val Loss: 1.6505 Acc: 0.8119\n",
      "\n",
      "Epoch 3/29\n",
      "----------\n",
      "train Loss: 1.6437 Acc: 0.8179\n",
      "val Loss: 1.6506 Acc: 0.8122\n",
      "\n",
      "Epoch 4/29\n",
      "----------\n",
      "train Loss: 1.6307 Acc: 0.8307\n",
      "val Loss: 1.6757 Acc: 0.7852\n",
      "\n",
      "Epoch 5/29\n",
      "----------\n",
      "train Loss: 1.6233 Acc: 0.8382\n",
      "val Loss: 1.6709 Acc: 0.7902\n",
      "\n",
      "Epoch 6/29\n",
      "----------\n",
      "train Loss: 1.6200 Acc: 0.8412\n",
      "val Loss: 1.6387 Acc: 0.8214\n",
      "\n",
      "Epoch 7/29\n",
      "----------\n",
      "train Loss: 1.6016 Acc: 0.8595\n",
      "val Loss: 1.6169 Acc: 0.8449\n",
      "\n",
      "Epoch 8/29\n",
      "----------\n",
      "train Loss: 1.5985 Acc: 0.8637\n",
      "val Loss: 1.6158 Acc: 0.8454\n",
      "\n",
      "Epoch 9/29\n",
      "----------\n",
      "train Loss: 1.5971 Acc: 0.8652\n",
      "val Loss: 1.6149 Acc: 0.8458\n",
      "\n",
      "Epoch 10/29\n",
      "----------\n",
      "train Loss: 1.5959 Acc: 0.8664\n",
      "val Loss: 1.6139 Acc: 0.8464\n",
      "\n",
      "Epoch 11/29\n",
      "----------\n",
      "train Loss: 1.5949 Acc: 0.8676\n",
      "val Loss: 1.6132 Acc: 0.8467\n",
      "\n",
      "Epoch 12/29\n",
      "----------\n",
      "train Loss: 1.5940 Acc: 0.8687\n",
      "val Loss: 1.6126 Acc: 0.8477\n",
      "\n",
      "Epoch 13/29\n",
      "----------\n",
      "train Loss: 1.5931 Acc: 0.8700\n",
      "val Loss: 1.6122 Acc: 0.8476\n",
      "\n",
      "Epoch 14/29\n",
      "----------\n",
      "train Loss: 1.5923 Acc: 0.8701\n",
      "val Loss: 1.6102 Acc: 0.8522\n",
      "\n",
      "Epoch 15/29\n",
      "----------\n",
      "train Loss: 1.5917 Acc: 0.8709\n",
      "val Loss: 1.6100 Acc: 0.8524\n",
      "\n",
      "Epoch 16/29\n",
      "----------\n",
      "train Loss: 1.5915 Acc: 0.8712\n",
      "val Loss: 1.6099 Acc: 0.8525\n",
      "\n",
      "Epoch 17/29\n",
      "----------\n",
      "train Loss: 1.5914 Acc: 0.8711\n",
      "val Loss: 1.6098 Acc: 0.8525\n",
      "\n",
      "Epoch 18/29\n",
      "----------\n",
      "train Loss: 1.5913 Acc: 0.8713\n",
      "val Loss: 1.6098 Acc: 0.8525\n",
      "\n",
      "Epoch 19/29\n",
      "----------\n",
      "train Loss: 1.5911 Acc: 0.8715\n",
      "val Loss: 1.6096 Acc: 0.8525\n",
      "\n",
      "Epoch 20/29\n",
      "----------\n",
      "train Loss: 1.5910 Acc: 0.8717\n",
      "val Loss: 1.6095 Acc: 0.8531\n",
      "\n",
      "Epoch 21/29\n",
      "----------\n",
      "train Loss: 1.5909 Acc: 0.8717\n",
      "val Loss: 1.6096 Acc: 0.8529\n",
      "\n",
      "Epoch 22/29\n",
      "----------\n",
      "train Loss: 1.5908 Acc: 0.8720\n",
      "val Loss: 1.6096 Acc: 0.8527\n",
      "\n",
      "Epoch 23/29\n",
      "----------\n",
      "train Loss: 1.5908 Acc: 0.8721\n",
      "val Loss: 1.6096 Acc: 0.8526\n",
      "\n",
      "Epoch 24/29\n",
      "----------\n",
      "train Loss: 1.5908 Acc: 0.8722\n",
      "val Loss: 1.6097 Acc: 0.8522\n",
      "\n",
      "Epoch 25/29\n",
      "----------\n",
      "train Loss: 1.5908 Acc: 0.8722\n",
      "val Loss: 1.6097 Acc: 0.8522\n",
      "\n",
      "Epoch 26/29\n",
      "----------\n",
      "train Loss: 1.5908 Acc: 0.8721\n",
      "val Loss: 1.6097 Acc: 0.8521\n",
      "\n",
      "Epoch 27/29\n",
      "----------\n",
      "train Loss: 1.5907 Acc: 0.8721\n",
      "val Loss: 1.6097 Acc: 0.8520\n",
      "\n",
      "Epoch 28/29\n",
      "----------\n",
      "train Loss: 1.5907 Acc: 0.8722\n",
      "val Loss: 1.6097 Acc: 0.8520\n",
      "\n",
      "Epoch 29/29\n",
      "----------\n",
      "train Loss: 1.5907 Acc: 0.8722\n",
      "val Loss: 1.6097 Acc: 0.8520\n",
      "\n",
      "Training complete in 4m 48s\n",
      "Best val Acc: 0.853100\n"
     ]
    }
   ],
   "source": [
    "import torch.nn as nn\n",
    "import torch.nn.functional as F\n",
    "device = torch.device(\"cuda:0\" if torch.cuda.is_available() else \"cpu\")\n",
    "class MyConvNet(nn.Module):\n",
    "    def __init__(self):\n",
    "        super(MyConvNet, self).__init__()\n",
    "        self.fc1 = nn.Linear(in_features=28*28,out_features= 512)\n",
    "        self.fc2 = nn.Linear(in_features=512,out_features= 512)\n",
    "        self.fc3 = nn.Linear(in_features=512,out_features= 1024)\n",
    "\n",
    "        self.fc4 = nn.Linear(in_features=1024, out_features=10)\n",
    "        \n",
    "    def forward(self, x):\n",
    "        x = x.view(-1,28*28)\n",
    "        x = self.fc1(x)\n",
    "        x = F.relu(self.fc2(x))\n",
    "        x = F.relu(self.fc3(x))\n",
    "\n",
    "        x = self.fc4(x)\n",
    "\n",
    "        return F.softmax(x)\n",
    "\n",
    "\n",
    "    \n",
    "model_ft = MyConvNet()\n",
    "\n",
    "\n",
    "model_ft = model_ft.to(device)\n",
    "\n",
    "criterion = nn.CrossEntropyLoss()\n",
    "\n",
    "# Observe that all parameters are being optimized\n",
    "optimizer_ft = optim.SGD(model_ft.parameters(), lr=1, momentum=0.4)\n",
    "\n",
    "# Decay LR by a factor of 0.1 every 7 epochs\n",
    "exp_lr_scheduler = lr_scheduler.StepLR(optimizer_ft, step_size=7, gamma=0.1)\n",
    "model_ft = train_model(model_ft, criterion, optimizer_ft, exp_lr_scheduler,\n",
    "                       num_epochs=30)"
   ]
  },
  {
   "cell_type": "markdown",
   "id": "0JmV8zGbrH5D",
   "metadata": {
    "id": "0JmV8zGbrH5D"
   },
   "source": [
    "# Три слоя "
   ]
  },
  {
   "cell_type": "code",
   "execution_count": 43,
   "id": "I9USPEQXqvrl",
   "metadata": {
    "colab": {
     "base_uri": "https://localhost:8080/"
    },
    "id": "I9USPEQXqvrl",
    "outputId": "29fdea77-30ee-417f-dbd2-f4a4beede566"
   },
   "outputs": [
    {
     "name": "stdout",
     "output_type": "stream",
     "text": [
      "Epoch 0/29\n",
      "----------\n"
     ]
    },
    {
     "name": "stderr",
     "output_type": "stream",
     "text": [
      "/usr/local/lib/python3.7/dist-packages/torch/nn/functional.py:1933: UserWarning: nn.functional.tanh is deprecated. Use torch.tanh instead.\n",
      "  warnings.warn(\"nn.functional.tanh is deprecated. Use torch.tanh instead.\")\n",
      "/usr/local/lib/python3.7/dist-packages/ipykernel_launcher.py:23: UserWarning: Implicit dimension choice for softmax has been deprecated. Change the call to include dim=X as an argument.\n"
     ]
    },
    {
     "name": "stdout",
     "output_type": "stream",
     "text": [
      "train Loss: 1.9971 Acc: 0.4760\n",
      "val Loss: 1.8119 Acc: 0.6470\n",
      "\n",
      "Epoch 1/29\n",
      "----------\n",
      "train Loss: 1.7242 Acc: 0.7369\n",
      "val Loss: 1.9052 Acc: 0.5533\n",
      "\n",
      "Epoch 2/29\n",
      "----------\n",
      "train Loss: 1.6810 Acc: 0.7797\n",
      "val Loss: 1.7133 Acc: 0.7462\n",
      "\n",
      "Epoch 3/29\n",
      "----------\n",
      "train Loss: 1.6580 Acc: 0.8028\n",
      "val Loss: 1.6434 Acc: 0.8171\n",
      "\n",
      "Epoch 4/29\n",
      "----------\n",
      "train Loss: 1.6445 Acc: 0.8164\n",
      "val Loss: 1.6474 Acc: 0.8130\n",
      "\n",
      "Epoch 5/29\n",
      "----------\n",
      "train Loss: 1.6387 Acc: 0.8220\n",
      "val Loss: 1.6565 Acc: 0.8037\n",
      "\n",
      "Epoch 6/29\n",
      "----------\n",
      "train Loss: 1.6317 Acc: 0.8290\n",
      "val Loss: 1.7577 Acc: 0.7029\n",
      "\n",
      "Epoch 7/29\n",
      "----------\n",
      "train Loss: 1.6367 Acc: 0.8239\n",
      "val Loss: 1.6825 Acc: 0.7776\n",
      "\n",
      "Epoch 8/29\n",
      "----------\n",
      "train Loss: 1.6292 Acc: 0.8314\n",
      "val Loss: 1.7575 Acc: 0.7038\n",
      "\n",
      "Epoch 9/29\n",
      "----------\n",
      "train Loss: 1.6256 Acc: 0.8353\n",
      "val Loss: 1.6275 Acc: 0.8332\n",
      "\n",
      "Epoch 10/29\n",
      "----------\n",
      "train Loss: 1.6200 Acc: 0.8403\n",
      "val Loss: 1.6233 Acc: 0.8373\n",
      "\n",
      "Epoch 11/29\n",
      "----------\n",
      "train Loss: 1.6208 Acc: 0.8398\n",
      "val Loss: 1.6487 Acc: 0.8129\n",
      "\n",
      "Epoch 12/29\n",
      "----------\n",
      "train Loss: 1.6226 Acc: 0.8379\n",
      "val Loss: 1.6449 Acc: 0.8153\n",
      "\n",
      "Epoch 13/29\n",
      "----------\n",
      "train Loss: 1.6171 Acc: 0.8438\n",
      "val Loss: 1.7212 Acc: 0.7386\n",
      "\n",
      "Epoch 14/29\n",
      "----------\n",
      "train Loss: 1.6164 Acc: 0.8443\n",
      "val Loss: 1.6221 Acc: 0.8385\n",
      "\n",
      "Epoch 15/29\n",
      "----------\n",
      "train Loss: 1.6029 Acc: 0.8578\n",
      "val Loss: 1.6126 Acc: 0.8483\n",
      "\n",
      "Epoch 16/29\n",
      "----------\n",
      "train Loss: 1.5978 Acc: 0.8631\n",
      "val Loss: 1.6106 Acc: 0.8498\n",
      "\n",
      "Epoch 17/29\n",
      "----------\n",
      "train Loss: 1.5964 Acc: 0.8642\n",
      "val Loss: 1.6099 Acc: 0.8513\n",
      "\n",
      "Epoch 18/29\n",
      "----------\n",
      "train Loss: 1.5957 Acc: 0.8654\n",
      "val Loss: 1.6098 Acc: 0.8507\n",
      "\n",
      "Epoch 19/29\n",
      "----------\n",
      "train Loss: 1.5953 Acc: 0.8658\n",
      "val Loss: 1.6098 Acc: 0.8508\n",
      "\n",
      "Epoch 20/29\n",
      "----------\n",
      "train Loss: 1.5949 Acc: 0.8663\n",
      "val Loss: 1.6096 Acc: 0.8509\n",
      "\n",
      "Epoch 21/29\n",
      "----------\n",
      "train Loss: 1.5946 Acc: 0.8665\n",
      "val Loss: 1.6095 Acc: 0.8509\n",
      "\n",
      "Epoch 22/29\n",
      "----------\n",
      "train Loss: 1.5944 Acc: 0.8666\n",
      "val Loss: 1.6095 Acc: 0.8508\n",
      "\n",
      "Epoch 23/29\n",
      "----------\n",
      "train Loss: 1.5941 Acc: 0.8670\n",
      "val Loss: 1.6095 Acc: 0.8511\n",
      "\n",
      "Epoch 24/29\n",
      "----------\n",
      "train Loss: 1.5939 Acc: 0.8673\n",
      "val Loss: 1.6094 Acc: 0.8515\n",
      "\n",
      "Epoch 25/29\n",
      "----------\n",
      "train Loss: 1.5937 Acc: 0.8673\n",
      "val Loss: 1.6093 Acc: 0.8516\n",
      "\n",
      "Epoch 26/29\n",
      "----------\n",
      "train Loss: 1.5935 Acc: 0.8675\n",
      "val Loss: 1.6092 Acc: 0.8517\n",
      "\n",
      "Epoch 27/29\n",
      "----------\n",
      "train Loss: 1.5933 Acc: 0.8677\n",
      "val Loss: 1.6091 Acc: 0.8515\n",
      "\n",
      "Epoch 28/29\n",
      "----------\n",
      "train Loss: 1.5931 Acc: 0.8681\n",
      "val Loss: 1.6091 Acc: 0.8515\n",
      "\n",
      "Epoch 29/29\n",
      "----------\n",
      "train Loss: 1.5930 Acc: 0.8682\n",
      "val Loss: 1.6090 Acc: 0.8515\n",
      "\n",
      "Training complete in 4m 60s\n",
      "Best val Acc: 0.851700\n"
     ]
    }
   ],
   "source": [
    "import torch.nn as nn\n",
    "import torch.nn.functional as F\n",
    "device = torch.device(\"cuda:0\" if torch.cuda.is_available() else \"cpu\")\n",
    "class MyConvNet(nn.Module):\n",
    "    def __init__(self):\n",
    "        super(MyConvNet, self).__init__()\n",
    "        self.fc1 = nn.Linear(in_features=28*28,out_features= 512)\n",
    "        self.fc2 = nn.Linear(in_features=512,out_features= 512)\n",
    "        self.fc3 = nn.Linear(in_features=512,out_features= 1024)\n",
    "        self.fc4 = nn.Linear(in_features=1024,out_features= 1024)\n",
    "\n",
    "\n",
    "        self.fc5 = nn.Linear(in_features=1024, out_features=10)\n",
    "        \n",
    "    def forward(self, x):\n",
    "        x = x.view(-1,28*28)\n",
    "        x = self.fc1(x)\n",
    "        x = F.relu(self.fc2(x))\n",
    "        x = F.relu(self.fc3(x))\n",
    "        x = F.tanh(self.fc4(x))\n",
    "        x = self.fc5(x)\n",
    "\n",
    "        return F.softmax(x)\n",
    "\n",
    "\n",
    "    \n",
    "model_ft = MyConvNet()\n",
    "\n",
    "\n",
    "model_ft = model_ft.to(device)\n",
    "\n",
    "criterion = nn.CrossEntropyLoss()\n",
    "\n",
    "# Observe that all parameters are being optimized\n",
    "optimizer_ft = optim.SGD(model_ft.parameters(), lr=2, momentum=0.1)\n",
    "\n",
    "# Decay LR by a factor of 0.1 every 7 epochs\n",
    "exp_lr_scheduler = lr_scheduler.StepLR(optimizer_ft, step_size=15, gamma=0.01)\n",
    "model_ft = train_model(model_ft, criterion, optimizer_ft, exp_lr_scheduler,\n",
    "                       num_epochs=30)"
   ]
  },
  {
   "cell_type": "markdown",
   "id": "22P1Vck1raD7",
   "metadata": {
    "id": "22P1Vck1raD7"
   },
   "source": [
    "# CIFAR10"
   ]
  },
  {
   "cell_type": "code",
   "execution_count": 91,
   "id": "m7Oi4KJaqvwr",
   "metadata": {
    "colab": {
     "base_uri": "https://localhost:8080/"
    },
    "id": "m7Oi4KJaqvwr",
    "outputId": "2aaf2675-e008-4122-b143-1f52278bc663"
   },
   "outputs": [
    {
     "name": "stdout",
     "output_type": "stream",
     "text": [
      "Files already downloaded and verified\n",
      "Files already downloaded and verified\n"
     ]
    }
   ],
   "source": [
    "dataloaders = {'train':torch.utils.data.DataLoader(torchvision.datasets.CIFAR10(root=os.getcwd(),download=True,train=True,\n",
    "                                                                             \n",
    "                                                  transform=transforms.Compose([\n",
    "                                                              transforms.ToTensor()])),batch_size=30),\n",
    "               'val':torch.utils.data.DataLoader(torchvision.datasets.CIFAR10(root=os.getcwd(),download=True,train=False,\n",
    "                                                                           \n",
    "                                                  transform=transforms.Compose([\n",
    "                                                              transforms.ToTensor()])),batch_size=30)}\n",
    "    \n",
    "    \n",
    "dataset_sizes = {'train':50000,'val':10000}"
   ]
  },
  {
   "cell_type": "markdown",
   "id": "hb89IA05r3zD",
   "metadata": {
    "id": "hb89IA05r3zD"
   },
   "source": [
    "# Один слой"
   ]
  },
  {
   "cell_type": "code",
   "execution_count": 92,
   "id": "-rCc11HUsANG",
   "metadata": {
    "colab": {
     "base_uri": "https://localhost:8080/"
    },
    "id": "-rCc11HUsANG",
    "outputId": "417c6d70-b612-484f-aa00-f9263febe38d"
   },
   "outputs": [
    {
     "name": "stdout",
     "output_type": "stream",
     "text": [
      "Epoch 0/7\n",
      "----------\n"
     ]
    },
    {
     "name": "stderr",
     "output_type": "stream",
     "text": [
      "/usr/local/lib/python3.7/dist-packages/torch/nn/functional.py:1933: UserWarning: nn.functional.tanh is deprecated. Use torch.tanh instead.\n",
      "  warnings.warn(\"nn.functional.tanh is deprecated. Use torch.tanh instead.\")\n",
      "/usr/local/lib/python3.7/dist-packages/ipykernel_launcher.py:17: UserWarning: Implicit dimension choice for softmax has been deprecated. Change the call to include dim=X as an argument.\n"
     ]
    },
    {
     "name": "stdout",
     "output_type": "stream",
     "text": [
      "train Loss: 2.3517 Acc: 0.1079\n",
      "val Loss: 2.3389 Acc: 0.1222\n",
      "\n",
      "Epoch 1/7\n",
      "----------\n",
      "train Loss: 2.3507 Acc: 0.1104\n",
      "val Loss: 2.3612 Acc: 0.1000\n",
      "\n",
      "Epoch 2/7\n",
      "----------\n",
      "train Loss: 2.3611 Acc: 0.1000\n",
      "val Loss: 2.3612 Acc: 0.1000\n",
      "\n",
      "Epoch 3/7\n",
      "----------\n",
      "train Loss: 2.3611 Acc: 0.1000\n",
      "val Loss: 2.3612 Acc: 0.1000\n",
      "\n",
      "Epoch 4/7\n",
      "----------\n",
      "train Loss: 2.3611 Acc: 0.1000\n",
      "val Loss: 2.3612 Acc: 0.1000\n",
      "\n",
      "Epoch 5/7\n",
      "----------\n",
      "train Loss: 2.3611 Acc: 0.1000\n",
      "val Loss: 2.3612 Acc: 0.1000\n",
      "\n",
      "Epoch 6/7\n",
      "----------\n",
      "train Loss: 2.3611 Acc: 0.1000\n",
      "val Loss: 2.3612 Acc: 0.1000\n",
      "\n",
      "Epoch 7/7\n",
      "----------\n",
      "train Loss: 2.3611 Acc: 0.1000\n",
      "val Loss: 2.3612 Acc: 0.1000\n",
      "\n",
      "Training complete in 7m 56s\n",
      "Best val Acc: 0.122200\n"
     ]
    }
   ],
   "source": [
    "import torch.nn as nn\n",
    "import torch.nn.functional as F\n",
    "device = torch.device(\"cuda:0\" if torch.cuda.is_available() else \"cpu\")\n",
    "class MyConvNet(nn.Module):\n",
    "    def __init__(self):\n",
    "        super(MyConvNet, self).__init__()\n",
    "        self.fc1 = nn.Linear(in_features=32*32*3,out_features= 6144)\n",
    "        self.fc2 = nn.Linear(in_features=6144,out_features= 6144)\n",
    "        self.fc3 = nn.Linear(in_features=6144, out_features=10)\n",
    "        \n",
    "    def forward(self, x):\n",
    "        x = x.view(-1,32*32*3)\n",
    "        x = self.fc1(x)\n",
    "        x = F.tanh(self.fc2(x))\n",
    "        x = self.fc3(x)\n",
    "\n",
    "        return F.softmax(x)\n",
    "\n",
    "\n",
    "    \n",
    "model_ft = MyConvNet()\n",
    "\n",
    "\n",
    "model_ft = model_ft.to(device)\n",
    "\n",
    "criterion = nn.CrossEntropyLoss()\n",
    "\n",
    "# Observe that all parameters are being optimized\n",
    "optimizer_ft = optim.SGD(model_ft.parameters(), lr=1, momentum=0.1)\n",
    "\n",
    "# Decay LR by a factor of 0.1 every 7 epochs\n",
    "exp_lr_scheduler = lr_scheduler.StepLR(optimizer_ft, step_size=7, gamma=0.1)\n",
    "model_ft = train_model(model_ft, criterion, optimizer_ft, exp_lr_scheduler,\n",
    "                       num_epochs=8)"
   ]
  },
  {
   "cell_type": "markdown",
   "id": "Me01HKxXsI82",
   "metadata": {
    "id": "Me01HKxXsI82"
   },
   "source": [
    "# Два слоя "
   ]
  },
  {
   "cell_type": "code",
   "execution_count": 93,
   "id": "NIfYdpfrsAO5",
   "metadata": {
    "colab": {
     "base_uri": "https://localhost:8080/"
    },
    "id": "NIfYdpfrsAO5",
    "outputId": "c2c2646f-3962-4f12-ad6f-82d3ae971f5e"
   },
   "outputs": [
    {
     "name": "stdout",
     "output_type": "stream",
     "text": [
      "Epoch 0/7\n",
      "----------\n"
     ]
    },
    {
     "name": "stderr",
     "output_type": "stream",
     "text": [
      "/usr/local/lib/python3.7/dist-packages/torch/nn/functional.py:1933: UserWarning: nn.functional.tanh is deprecated. Use torch.tanh instead.\n",
      "  warnings.warn(\"nn.functional.tanh is deprecated. Use torch.tanh instead.\")\n",
      "/usr/local/lib/python3.7/dist-packages/ipykernel_launcher.py:21: UserWarning: Implicit dimension choice for softmax has been deprecated. Change the call to include dim=X as an argument.\n"
     ]
    },
    {
     "name": "stdout",
     "output_type": "stream",
     "text": [
      "train Loss: 2.3264 Acc: 0.1293\n",
      "val Loss: 2.3609 Acc: 0.1002\n",
      "\n",
      "Epoch 1/7\n",
      "----------\n",
      "train Loss: 2.3389 Acc: 0.1220\n",
      "val Loss: 2.3608 Acc: 0.1004\n",
      "\n",
      "Epoch 2/7\n",
      "----------\n",
      "train Loss: 2.3605 Acc: 0.1006\n",
      "val Loss: 2.3612 Acc: 0.1000\n",
      "\n",
      "Epoch 3/7\n",
      "----------\n",
      "train Loss: 2.3612 Acc: 0.1000\n",
      "val Loss: 2.3612 Acc: 0.1000\n",
      "\n",
      "Epoch 4/7\n",
      "----------\n",
      "train Loss: 2.3612 Acc: 0.1000\n",
      "val Loss: 2.3612 Acc: 0.1000\n",
      "\n",
      "Epoch 5/7\n",
      "----------\n",
      "train Loss: 2.3612 Acc: 0.1000\n",
      "val Loss: 2.3612 Acc: 0.1000\n",
      "\n",
      "Epoch 6/7\n",
      "----------\n",
      "train Loss: 2.3612 Acc: 0.1000\n",
      "val Loss: 2.3612 Acc: 0.1000\n",
      "\n",
      "Epoch 7/7\n",
      "----------\n",
      "train Loss: 2.3612 Acc: 0.1000\n",
      "val Loss: 2.3612 Acc: 0.1000\n",
      "\n",
      "Training complete in 2m 11s\n",
      "Best val Acc: 0.100400\n"
     ]
    }
   ],
   "source": [
    "import torch.nn as nn\n",
    "import torch.nn.functional as F\n",
    "device = torch.device(\"cuda:0\" if torch.cuda.is_available() else \"cpu\")\n",
    "class MyConvNet(nn.Module):\n",
    "    def __init__(self):\n",
    "        super(MyConvNet, self).__init__()\n",
    "        self.fc1 = nn.Linear(in_features=32*32*3,out_features= 512)\n",
    "        self.fc2 = nn.Linear(in_features=512,out_features= 512)\n",
    "        self.fc3 = nn.Linear(in_features=512,out_features= 1024)\n",
    "\n",
    "        self.fc4 = nn.Linear(in_features=1024, out_features=10)\n",
    "        \n",
    "    def forward(self, x):\n",
    "        x = x.view(-1,32*32*3)\n",
    "        x = self.fc1(x)\n",
    "        x = F.relu(self.fc2(x))\n",
    "        x = F.tanh(self.fc3(x))\n",
    "\n",
    "        x = self.fc4(x)\n",
    "\n",
    "        return F.softmax(x)\n",
    "\n",
    "\n",
    "    \n",
    "model_ft = MyConvNet()\n",
    "\n",
    "\n",
    "model_ft = model_ft.to(device)\n",
    "\n",
    "criterion = nn.CrossEntropyLoss()\n",
    "\n",
    "# Observe that all parameters are being optimized\n",
    "optimizer_ft = optim.SGD(model_ft.parameters(), lr=0.1, momentum=0.9)\n",
    "\n",
    "# Decay LR by a factor of 0.1 every 7 epochs\n",
    "exp_lr_scheduler = lr_scheduler.StepLR(optimizer_ft, step_size=7, gamma=0.1)\n",
    "model_ft = train_model(model_ft, criterion, optimizer_ft, exp_lr_scheduler,\n",
    "                       num_epochs=8)"
   ]
  },
  {
   "cell_type": "markdown",
   "id": "CnNWfpoQsM94",
   "metadata": {
    "id": "CnNWfpoQsM94"
   },
   "source": [
    "# Три слоя"
   ]
  },
  {
   "cell_type": "code",
   "execution_count": 94,
   "id": "Ol1oJLkYsART",
   "metadata": {
    "colab": {
     "base_uri": "https://localhost:8080/"
    },
    "id": "Ol1oJLkYsART",
    "outputId": "582090de-c713-43c4-9bb3-029a5fa1670c"
   },
   "outputs": [
    {
     "name": "stdout",
     "output_type": "stream",
     "text": [
      "Epoch 0/7\n",
      "----------\n"
     ]
    },
    {
     "name": "stderr",
     "output_type": "stream",
     "text": [
      "/usr/local/lib/python3.7/dist-packages/torch/nn/functional.py:1933: UserWarning: nn.functional.tanh is deprecated. Use torch.tanh instead.\n",
      "  warnings.warn(\"nn.functional.tanh is deprecated. Use torch.tanh instead.\")\n",
      "/usr/local/lib/python3.7/dist-packages/ipykernel_launcher.py:23: UserWarning: Implicit dimension choice for softmax has been deprecated. Change the call to include dim=X as an argument.\n"
     ]
    },
    {
     "name": "stdout",
     "output_type": "stream",
     "text": [
      "train Loss: 2.3000 Acc: 0.1500\n",
      "val Loss: 2.3610 Acc: 0.1002\n",
      "\n",
      "Epoch 1/7\n",
      "----------\n",
      "train Loss: 2.3608 Acc: 0.1003\n",
      "val Loss: 2.3608 Acc: 0.1003\n",
      "\n",
      "Epoch 2/7\n",
      "----------\n",
      "train Loss: 2.3607 Acc: 0.1004\n",
      "val Loss: 2.3609 Acc: 0.1003\n",
      "\n",
      "Epoch 3/7\n",
      "----------\n",
      "train Loss: 2.3607 Acc: 0.1005\n",
      "val Loss: 2.3609 Acc: 0.1003\n",
      "\n",
      "Epoch 4/7\n",
      "----------\n",
      "train Loss: 2.3522 Acc: 0.1088\n",
      "val Loss: 2.3612 Acc: 0.1000\n",
      "\n",
      "Epoch 5/7\n",
      "----------\n",
      "train Loss: 2.3612 Acc: 0.1000\n",
      "val Loss: 2.3612 Acc: 0.1000\n",
      "\n",
      "Epoch 6/7\n",
      "----------\n",
      "train Loss: 2.3612 Acc: 0.1000\n",
      "val Loss: 2.3612 Acc: 0.1000\n",
      "\n",
      "Epoch 7/7\n",
      "----------\n",
      "train Loss: 2.3612 Acc: 0.1000\n",
      "val Loss: 2.3612 Acc: 0.1000\n",
      "\n",
      "Training complete in 2m 28s\n",
      "Best val Acc: 0.100300\n"
     ]
    }
   ],
   "source": [
    "import torch.nn as nn\n",
    "import torch.nn.functional as F\n",
    "device = torch.device(\"cuda:0\" if torch.cuda.is_available() else \"cpu\")\n",
    "class MyConvNet(nn.Module):\n",
    "    def __init__(self):\n",
    "        super(MyConvNet, self).__init__()\n",
    "        self.fc1 = nn.Linear(in_features=32*32*3,out_features= 512)\n",
    "        self.fc2 = nn.Linear(in_features=512,out_features= 512)\n",
    "        self.fc3 = nn.Linear(in_features=512,out_features= 1024)\n",
    "        self.fc4 = nn.Linear(in_features=1024,out_features= 1024)\n",
    "\n",
    "\n",
    "        self.fc5 = nn.Linear(in_features=1024, out_features=10)\n",
    "        \n",
    "    def forward(self, x):\n",
    "        x = x.view(-1,32*32*3)\n",
    "        x = self.fc1(x)\n",
    "        x = F.relu(self.fc2(x))\n",
    "        x = F.relu(self.fc3(x))\n",
    "        x = F.tanh(self.fc4(x))\n",
    "        x = self.fc5(x)\n",
    "\n",
    "        return F.softmax(x)\n",
    "\n",
    "\n",
    "    \n",
    "model_ft = MyConvNet()\n",
    "\n",
    "\n",
    "model_ft = model_ft.to(device)\n",
    "\n",
    "criterion = nn.CrossEntropyLoss()\n",
    "\n",
    "# Observe that all parameters are being optimized\n",
    "optimizer_ft = optim.SGD(model_ft.parameters(), lr=0.1, momentum=0.9)\n",
    "\n",
    "# Decay LR by a factor of 0.1 every 7 epochs\n",
    "exp_lr_scheduler = lr_scheduler.StepLR(optimizer_ft, step_size=7, gamma=0.1)\n",
    "model_ft = train_model(model_ft, criterion, optimizer_ft, exp_lr_scheduler,\n",
    "                       num_epochs=8)"
   ]
  },
  {
   "cell_type": "markdown",
   "id": "8l7wCTsq7IfF",
   "metadata": {
    "id": "8l7wCTsq7IfF"
   },
   "source": [
    "# Перебор параметров сетей "
   ]
  },
  {
   "cell_type": "code",
   "execution_count": 95,
   "id": "eCa2gQiXaPn5",
   "metadata": {
    "id": "eCa2gQiXaPn5"
   },
   "outputs": [],
   "source": [
    "def train_model(model, criterion, optimizer, scheduler, num_epochs=25):\n",
    "    since = time.time()\n",
    "    history = []\n",
    "    best_model_wts = copy.deepcopy(model.state_dict())\n",
    "    best_acc = 0.0\n",
    "\n",
    "    for epoch in range(num_epochs):\n",
    "        #print(f'Epoch {epoch}/{num_epochs - 1}')\n",
    "        #print('-' * 10)\n",
    "\n",
    "        # Each epoch has a training and validation phase\n",
    "        for phase in ['train', 'val']:\n",
    "            if phase == 'train':\n",
    "                model.train()  # Set model to training mode\n",
    "            else:\n",
    "                model.eval()   # Set model to evaluate mode\n",
    "\n",
    "            running_loss = 0.0\n",
    "            running_corrects = 0\n",
    "\n",
    "            # Iterate over data.\n",
    "            for inputs, labels in dataloaders[phase]:\n",
    "                \n",
    "                inputs = inputs.cuda()\n",
    "                labels = labels.cuda()\n",
    "                # zero the parameter gradients\n",
    "                optimizer.zero_grad()\n",
    "\n",
    "                # forward\n",
    "                # track history if only in train\n",
    "                with torch.set_grad_enabled(phase == 'train'):\n",
    "                    outputs = model(inputs)\n",
    "                    #print(outputs)\n",
    "                    _, preds = torch.max(outputs, 1)\n",
    "                    loss = criterion(outputs, labels)\n",
    "\n",
    "                    # backward + optimize only if in training phase\n",
    "                    if phase == 'train':\n",
    "                        loss.backward()\n",
    "                        optimizer.step()\n",
    "\n",
    "                # statistics\n",
    "                running_loss += loss.item() * inputs.size(0)\n",
    "                running_corrects += torch.sum(preds == labels.data)\n",
    "            if phase == 'train':\n",
    "                scheduler.step()\n",
    "\n",
    "            epoch_loss = running_loss / dataset_sizes[phase]\n",
    "            epoch_acc = running_corrects.double() / dataset_sizes[phase]\n",
    "\n",
    "            #print(f'{phase} Loss: {epoch_loss:.4f} Acc: {epoch_acc:.4f}')\n",
    "\n",
    "            # deep copy the model\n",
    "            if phase == 'val':\n",
    "\n",
    "              history.append(float(epoch_acc))\n",
    "            if phase == 'val' and epoch_acc > best_acc:\n",
    "                best_acc = float(epoch_acc)\n",
    "                best_model_wts = copy.deepcopy(model.state_dict())\n",
    "\n",
    "        #print()\n",
    "\n",
    "    time_elapsed = time.time() - since\n",
    "    #print(f'Training complete in {time_elapsed // 60:.0f}m {time_elapsed % 60:.0f}s')\n",
    "    #print(f'Best val Acc: {best_acc:4f}')\n",
    "\n",
    "    # load best model weights\n",
    "    model.load_state_dict(best_model_wts)\n",
    "    return history,best_acc ,model"
   ]
  },
  {
   "cell_type": "markdown",
   "id": "R2RYyd-8ZP7e",
   "metadata": {
    "id": "R2RYyd-8ZP7e"
   },
   "source": [
    "## MNIST MultiLayer Perceptron"
   ]
  },
  {
   "cell_type": "code",
   "execution_count": 96,
   "id": "oZKeXmP6szRM",
   "metadata": {
    "colab": {
     "base_uri": "https://localhost:8080/"
    },
    "id": "oZKeXmP6szRM",
    "outputId": "1935db6b-a438-4ac3-eba3-b8738920ae80"
   },
   "outputs": [
    {
     "name": "stderr",
     "output_type": "stream",
     "text": [
      "/usr/local/lib/python3.7/dist-packages/torch/nn/functional.py:1933: UserWarning: nn.functional.tanh is deprecated. Use torch.tanh instead.\n",
      "  warnings.warn(\"nn.functional.tanh is deprecated. Use torch.tanh instead.\")\n",
      "/usr/local/lib/python3.7/dist-packages/ipykernel_launcher.py:39: UserWarning: Implicit dimension choice for softmax has been deprecated. Change the call to include dim=X as an argument.\n"
     ]
    }
   ],
   "source": [
    "dataloaders = {'train':torch.utils.data.DataLoader(torchvision.datasets.MNIST(root=os.getcwd(),download=True,train=True,\n",
    "                                                                             \n",
    "                                                  transform=transforms.Compose([\n",
    "                                                              transforms.ToTensor()])),batch_size=512),\n",
    "               'val':torch.utils.data.DataLoader(torchvision.datasets.MNIST(root=os.getcwd(),download=True,train=False,\n",
    "                                                                           \n",
    "                                                  transform=transforms.Compose([\n",
    "                                                              transforms.ToTensor()])),batch_size=512)}\n",
    "    \n",
    "    \n",
    "dataset_sizes = {'train':60000,'val':10000}\n",
    "\n",
    "\n",
    "\n",
    "\n",
    "\n",
    "import torch.nn as nn\n",
    "import torch.nn.functional as F\n",
    "device = torch.device(\"cuda:0\" if torch.cuda.is_available() else \"cpu\")\n",
    "class MyConvNet(nn.Module):\n",
    "    def __init__(self,n_hidden):\n",
    "        super(MyConvNet, self).__init__()\n",
    "        self.fc1 = nn.Linear(in_features=28*28,out_features= n_hidden)\n",
    "        self.fc2 = nn.Linear(in_features=n_hidden,out_features= n_hidden)\n",
    "        self.fc3 = nn.Linear(in_features=n_hidden,out_features= n_hidden)\n",
    "        self.fc4 = nn.Linear(in_features=n_hidden,out_features= n_hidden)\n",
    "\n",
    "\n",
    "        self.fc5 = nn.Linear(in_features=n_hidden, out_features=10)\n",
    "        \n",
    "    def forward(self, x):\n",
    "        x = x.view(-1,28*28)\n",
    "        x = self.fc1(x)\n",
    "        x = F.relu(self.fc2(x))\n",
    "        x = F.relu(self.fc3(x))\n",
    "        x = F.tanh(self.fc4(x))\n",
    "        x = self.fc5(x)\n",
    "\n",
    "        return F.softmax(x)\n",
    "\n",
    "\n",
    "\n",
    "hiddens_neurons = [10, 50, 100, 150, 250,500]\n",
    "accs = []\n",
    "historys = []\n",
    "for i in hiddens_neurons:\n",
    "\n",
    "  model_ft = MyConvNet(n_hidden=i)\n",
    "\n",
    "\n",
    "  model_ft = model_ft.to(device)\n",
    "\n",
    "  criterion = nn.CrossEntropyLoss()\n",
    "\n",
    "# Observe that all parameters are being optimized\n",
    "  optimizer_ft = optim.SGD(model_ft.parameters(), lr=0.1, momentum=0.9)\n",
    "\n",
    "# Decay LR by a factor of 0.1 every 7 epochs\n",
    "  exp_lr_scheduler = lr_scheduler.StepLR(optimizer_ft, step_size=7, gamma=0.1)\n",
    "  history, acc,model_ft = train_model(model_ft, criterion, optimizer_ft, exp_lr_scheduler,num_epochs=8)\n",
    "  accs.append(acc)\n",
    "  historys.append(history)"
   ]
  },
  {
   "cell_type": "code",
   "execution_count": 97,
   "id": "9SF7dQR9aep_",
   "metadata": {
    "colab": {
     "base_uri": "https://localhost:8080/",
     "height": 282
    },
    "id": "9SF7dQR9aep_",
    "outputId": "0c1a3840-630e-49b2-e513-cfa42b798441"
   },
   "outputs": [
    {
     "data": {
      "text/plain": [
       "[<matplotlib.lines.Line2D at 0x7f46dd739890>]"
      ]
     },
     "execution_count": 97,
     "metadata": {},
     "output_type": "execute_result"
    },
    {
     "data": {
      "image/png": "[encoded data removed]",
      "text/plain": [
       "<Figure size 432x288 with 1 Axes>"
      ]
     },
     "metadata": {
      "needs_background": "light"
     },
     "output_type": "display_data"
    }
   ],
   "source": [
    "# Зависимость точности от количества нейроннов \n",
    "import matplotlib.pyplot as plt\n",
    "plt.plot(hiddens_neurons,accs)"
   ]
  },
  {
   "cell_type": "code",
   "execution_count": 100,
   "id": "ztSaEdKBf0Dq",
   "metadata": {
    "colab": {
     "base_uri": "https://localhost:8080/",
     "height": 609
    },
    "id": "ztSaEdKBf0Dq",
    "outputId": "7cab12e1-9e51-433f-c395-703edca6fd1d"
   },
   "outputs": [
    {
     "data": {
      "text/plain": [
       "<matplotlib.legend.Legend at 0x7f46dcebc290>"
      ]
     },
     "execution_count": 100,
     "metadata": {},
     "output_type": "execute_result"
    },
    {
     "data": {
      "image/png": "[encoded data removed]",
      "text/plain": [
       "<Figure size 720x720 with 1 Axes>"
      ]
     },
     "metadata": {
      "needs_background": "light"
     },
     "output_type": "display_data"
    }
   ],
   "source": [
    "plt.figure(figsize=(10,10))\n",
    "for i in range(len(historys)):\n",
    "  plt.plot([k for k in range(8)],historys[i],label=f'n_hidden_neurons = {hiddens_neurons[i]}')\n",
    "plt.legend()"
   ]
  },
  {
   "cell_type": "markdown",
   "id": "9dMc78FT_7Wp",
   "metadata": {
    "id": "9dMc78FT_7Wp"
   },
   "source": [
    "Смотря на графики можно сделать вывод, что после 100 нейронов в каждом скрытом слое  точность не особо сильно возрастает. Касательно второго графика хочется заметить, что сеть с 500 нейронами в каждом скрытом слое на каждой эпохе достигает лучшей метрики. При этом начиная примерно с 3 эпохи рост метрики значительно замедляется для все сетей с количеством нейронов в скрытых слоях равных 100, 150, 250, 500. В конце хочется заметить, что большая часть рассмотренных сетей достигают неплохого показателя метрики. Это указывает на неплохую применимость архитектуры перцептронов для решения задачи классификация датасета MNIST"
   ]
  },
  {
   "cell_type": "markdown",
   "id": "Ubg7F2AniIHX",
   "metadata": {
    "id": "Ubg7F2AniIHX"
   },
   "source": [
    "## Fmnist MultiLayer Perceptron"
   ]
  },
  {
   "cell_type": "code",
   "execution_count": 108,
   "id": "CM-oGkGVg0fS",
   "metadata": {
    "id": "CM-oGkGVg0fS"
   },
   "outputs": [],
   "source": [
    "dataloaders = {'train':torch.utils.data.DataLoader(torchvision.datasets.FashionMNIST(root=os.getcwd(),download=True,train=True,\n",
    "                                                                             \n",
    "                                                  transform=transforms.Compose([\n",
    "                                                              transforms.ToTensor()])),batch_size=512),\n",
    "               'val':torch.utils.data.DataLoader(torchvision.datasets.FashionMNIST(root=os.getcwd(),download=True,train=False,\n",
    "                                                                           \n",
    "                                                  transform=transforms.Compose([\n",
    "                                                              transforms.ToTensor()])),batch_size=512)}\n",
    "    \n",
    "    \n",
    "dataset_sizes = {'train':60000,'val':10000}"
   ]
  },
  {
   "cell_type": "code",
   "execution_count": 109,
   "id": "hHo0gk4xg0hH",
   "metadata": {
    "colab": {
     "base_uri": "https://localhost:8080/"
    },
    "id": "hHo0gk4xg0hH",
    "outputId": "4fa0f62f-7732-44d5-b5ed-cc096ee36082"
   },
   "outputs": [
    {
     "name": "stderr",
     "output_type": "stream",
     "text": [
      "/usr/local/lib/python3.7/dist-packages/torch/nn/functional.py:1933: UserWarning: nn.functional.tanh is deprecated. Use torch.tanh instead.\n",
      "  warnings.warn(\"nn.functional.tanh is deprecated. Use torch.tanh instead.\")\n",
      "/usr/local/lib/python3.7/dist-packages/ipykernel_launcher.py:23: UserWarning: Implicit dimension choice for softmax has been deprecated. Change the call to include dim=X as an argument.\n"
     ]
    }
   ],
   "source": [
    "import torch.nn as nn\n",
    "import torch.nn.functional as F\n",
    "device = torch.device(\"cuda:0\" if torch.cuda.is_available() else \"cpu\")\n",
    "class MyConvNet(nn.Module):\n",
    "    def __init__(self,n_hidden):\n",
    "        super(MyConvNet, self).__init__()\n",
    "        self.fc1 = nn.Linear(in_features=28*28,out_features= n_hidden)\n",
    "        self.fc2 = nn.Linear(in_features=n_hidden,out_features= n_hidden)\n",
    "        self.fc3 = nn.Linear(in_features=n_hidden,out_features= n_hidden)\n",
    "        self.fc4 = nn.Linear(in_features=n_hidden,out_features= n_hidden)\n",
    "\n",
    "\n",
    "        self.fc5 = nn.Linear(in_features=n_hidden, out_features=10)\n",
    "        \n",
    "    def forward(self, x):\n",
    "        x = x.view(-1,28*28)\n",
    "        x = self.fc1(x)\n",
    "        x = F.relu(self.fc2(x))\n",
    "        x = F.relu(self.fc3(x))\n",
    "        x = F.tanh(self.fc4(x))\n",
    "        x = self.fc5(x)\n",
    "\n",
    "        return F.softmax(x)\n",
    "\n",
    "\n",
    "\n",
    "hiddens_neurons = [10, 50, 100, 150, 250,500]\n",
    "accs = []\n",
    "historys = []\n",
    "for i in hiddens_neurons:\n",
    "\n",
    "  model_ft = MyConvNet(n_hidden=i)\n",
    "\n",
    "\n",
    "  model_ft = model_ft.to(device)\n",
    "\n",
    "  criterion = nn.CrossEntropyLoss()\n",
    "\n",
    "# Observe that all parameters are being optimized\n",
    "  optimizer_ft = optim.SGD(model_ft.parameters(), lr=0.1, momentum=0.9)\n",
    "\n",
    "# Decay LR by a factor of 0.1 every 7 epochs\n",
    "  exp_lr_scheduler = lr_scheduler.StepLR(optimizer_ft, step_size=7, gamma=0.1)\n",
    "  history, acc,model_ft = train_model(model_ft, criterion, optimizer_ft, exp_lr_scheduler,num_epochs=8)\n",
    "  accs.append(acc)\n",
    "  historys.append(history)"
   ]
  },
  {
   "cell_type": "code",
   "execution_count": 110,
   "id": "qzE1wp0IirJq",
   "metadata": {
    "colab": {
     "base_uri": "https://localhost:8080/",
     "height": 282
    },
    "id": "qzE1wp0IirJq",
    "outputId": "ef4c8fe1-0956-4e30-bbea-4386910d0f00"
   },
   "outputs": [
    {
     "data": {
      "text/plain": [
       "[<matplotlib.lines.Line2D at 0x7f46dcf72d90>]"
      ]
     },
     "execution_count": 110,
     "metadata": {},
     "output_type": "execute_result"
    },
    {
     "data": {
      "image/png": "[encoded data removed]",
      "text/plain": [
       "<Figure size 432x288 with 1 Axes>"
      ]
     },
     "metadata": {
      "needs_background": "light"
     },
     "output_type": "display_data"
    }
   ],
   "source": [
    "# Зависимость точности от количества нейроннов \n",
    "import matplotlib.pyplot as plt\n",
    "plt.plot(hiddens_neurons,accs)"
   ]
  },
  {
   "cell_type": "code",
   "execution_count": 111,
   "id": "sxYLPlbkirPh",
   "metadata": {
    "colab": {
     "base_uri": "https://localhost:8080/",
     "height": 609
    },
    "id": "sxYLPlbkirPh",
    "outputId": "7f19d6ef-39aa-42f0-be9c-60fe68986c18"
   },
   "outputs": [
    {
     "data": {
      "text/plain": [
       "<matplotlib.legend.Legend at 0x7f46db56be10>"
      ]
     },
     "execution_count": 111,
     "metadata": {},
     "output_type": "execute_result"
    },
    {
     "data": {
      "image/png": "[encoded data removed]",
      "text/plain": [
       "<Figure size 720x720 with 1 Axes>"
      ]
     },
     "metadata": {
      "needs_background": "light"
     },
     "output_type": "display_data"
    }
   ],
   "source": [
    "plt.figure(figsize=(10,10))\n",
    "for i in range(len(historys)):\n",
    "  plt.plot([k for k in range(8)],historys[i],label=f'n_hidden_neurons = {hiddens_neurons[i]}')\n",
    "plt.legend()"
   ]
  },
  {
   "cell_type": "markdown",
   "id": "3_WwpyQqB-QW",
   "metadata": {
    "id": "3_WwpyQqB-QW"
   },
   "source": [
    "Смотря на графики можно сделать вывод, что почему от 100 до 150 нейронов наблюдается падения метрики. Это действительно странная аномалия(не критично падает, но все-таки падает). При этом далее от 200 до 500 нейронов идет постепенный медленный рост метрики.  Касательно второго графика хочется заметить, что сеть с 500 нейронами в каждом скрытом слое на каждой эпохе достигает лучшей метрики. При этом начиная примерно с 1 эпохи рост метрики значительно замедляется для все сетей с количеством нейронов в скрытых слоях равных 50,100, 150, 250, 500. В конце хочется заметить, что большая часть рассмотренных сетей достигают неплохого показателя метрики. Это указывает на неплохую применимость архитектуры перцептронов для решения задачи классификация датасета Fmnist"
   ]
  },
  {
   "cell_type": "markdown",
   "id": "2dZF2_FHivfo",
   "metadata": {
    "id": "2dZF2_FHivfo"
   },
   "source": [
    "# CIFAR10"
   ]
  },
  {
   "cell_type": "code",
   "execution_count": 112,
   "id": "E09Wt4qwirRX",
   "metadata": {
    "colab": {
     "base_uri": "https://localhost:8080/"
    },
    "id": "E09Wt4qwirRX",
    "outputId": "3d40b03e-96de-4608-a27c-01f8b0583330"
   },
   "outputs": [
    {
     "name": "stdout",
     "output_type": "stream",
     "text": [
      "Files already downloaded and verified\n",
      "Files already downloaded and verified\n"
     ]
    }
   ],
   "source": [
    "dataloaders = {'train':torch.utils.data.DataLoader(torchvision.datasets.CIFAR10(root=os.getcwd(),download=True,train=True,\n",
    "                                                                             \n",
    "                                                  transform=transforms.Compose([\n",
    "                                                              transforms.ToTensor()])),batch_size=30),\n",
    "               'val':torch.utils.data.DataLoader(torchvision.datasets.CIFAR10(root=os.getcwd(),download=True,train=False,\n",
    "                                                                           \n",
    "                                                  transform=transforms.Compose([\n",
    "                                                              transforms.ToTensor()])),batch_size=30)}\n",
    "    \n",
    "    \n",
    "dataset_sizes = {'train':50000,'val':10000}"
   ]
  },
  {
   "cell_type": "code",
   "execution_count": 116,
   "id": "t2Ws2r-Ci-YH",
   "metadata": {
    "colab": {
     "base_uri": "https://localhost:8080/"
    },
    "id": "t2Ws2r-Ci-YH",
    "outputId": "7d3a426a-44c7-46a7-8fdd-10c1ffe8ec5c"
   },
   "outputs": [
    {
     "name": "stderr",
     "output_type": "stream",
     "text": [
      "/usr/local/lib/python3.7/dist-packages/torch/nn/functional.py:1933: UserWarning: nn.functional.tanh is deprecated. Use torch.tanh instead.\n",
      "  warnings.warn(\"nn.functional.tanh is deprecated. Use torch.tanh instead.\")\n",
      "/usr/local/lib/python3.7/dist-packages/ipykernel_launcher.py:24: UserWarning: Implicit dimension choice for softmax has been deprecated. Change the call to include dim=X as an argument.\n"
     ]
    }
   ],
   "source": [
    "\n",
    "import torch.nn as nn\n",
    "import torch.nn.functional as F\n",
    "device = torch.device(\"cuda:0\" if torch.cuda.is_available() else \"cpu\")\n",
    "class MyConvNet(nn.Module):\n",
    "    def __init__(self,n_hidden):\n",
    "        super(MyConvNet, self).__init__()\n",
    "        self.fc1 = nn.Linear(in_features=32*32*3,out_features= n_hidden)\n",
    "        self.fc2 = nn.Linear(in_features=n_hidden,out_features= n_hidden)\n",
    "        self.fc3 = nn.Linear(in_features=n_hidden,out_features= n_hidden)\n",
    "        self.fc4 = nn.Linear(in_features=n_hidden,out_features= n_hidden)\n",
    "\n",
    "\n",
    "        self.fc5 = nn.Linear(in_features=n_hidden, out_features=10)\n",
    "        \n",
    "    def forward(self, x):\n",
    "        x = x.view(-1,32*32*3)\n",
    "        x = self.fc1(x)\n",
    "        x = F.relu(self.fc2(x))\n",
    "        x = F.relu(self.fc3(x))\n",
    "        x = F.tanh(self.fc4(x))\n",
    "        x = self.fc5(x)\n",
    "\n",
    "        return F.softmax(x)\n",
    "\n",
    "\n",
    "\n",
    "hiddens_neurons = [10, 50, 100, 150, 250,500]\n",
    "accs = []\n",
    "historys = []\n",
    "for i in hiddens_neurons:\n",
    "\n",
    "  model_ft = MyConvNet(n_hidden=i)\n",
    "\n",
    "\n",
    "  model_ft = model_ft.to(device)\n",
    "\n",
    "  criterion = nn.CrossEntropyLoss()\n",
    "\n",
    "# Observe that all parameters are being optimized\n",
    "  optimizer_ft = optim.SGD(model_ft.parameters(), lr=0.1, momentum=0.9)\n",
    "\n",
    "# Decay LR by a factor of 0.1 every 7 epochs\n",
    "  exp_lr_scheduler = lr_scheduler.StepLR(optimizer_ft, step_size=7, gamma=0.1)\n",
    "  history, acc,model_ft = train_model(model_ft, criterion, optimizer_ft, exp_lr_scheduler,num_epochs=30)\n",
    "  accs.append(acc)\n",
    "  historys.append(history)"
   ]
  },
  {
   "cell_type": "code",
   "execution_count": 117,
   "id": "uhtWBDZHjJzT",
   "metadata": {
    "colab": {
     "base_uri": "https://localhost:8080/",
     "height": 282
    },
    "id": "uhtWBDZHjJzT",
    "outputId": "3910700a-bb38-44be-b256-0285d3c5ba01"
   },
   "outputs": [
    {
     "data": {
      "text/plain": [
       "[<matplotlib.lines.Line2D at 0x7f46db27d210>]"
      ]
     },
     "execution_count": 117,
     "metadata": {},
     "output_type": "execute_result"
    },
    {
     "data": {
      "image/png": "[encoded data removed]",
      "text/plain": [
       "<Figure size 432x288 with 1 Axes>"
      ]
     },
     "metadata": {
      "needs_background": "light"
     },
     "output_type": "display_data"
    }
   ],
   "source": [
    "# Зависимость точности от количества нейроннов \n",
    "import matplotlib.pyplot as plt\n",
    "plt.plot(hiddens_neurons,accs)"
   ]
  },
  {
   "cell_type": "code",
   "execution_count": 119,
   "id": "gpA2Y5eajJ1B",
   "metadata": {
    "colab": {
     "base_uri": "https://localhost:8080/",
     "height": 609
    },
    "id": "gpA2Y5eajJ1B",
    "outputId": "0a1bd575-aa25-4f78-c754-22e01973e592"
   },
   "outputs": [
    {
     "data": {
      "text/plain": [
       "<matplotlib.legend.Legend at 0x7f46db1965d0>"
      ]
     },
     "execution_count": 119,
     "metadata": {},
     "output_type": "execute_result"
    },
    {
     "data": {
      "image/png": "[encoded data removed]",
      "text/plain": [
       "<Figure size 720x720 with 1 Axes>"
      ]
     },
     "metadata": {
      "needs_background": "light"
     },
     "output_type": "display_data"
    }
   ],
   "source": [
    "plt.figure(figsize=(10,10))\n",
    "for i in range(len(historys)):\n",
    "  plt.plot([k for k in range(30)],historys[i],label=f'n_hidden_neurons = {hiddens_neurons[i]}')\n",
    "plt.legend()"
   ]
  },
  {
   "cell_type": "markdown",
   "id": "zlx0sGVzDTLp",
   "metadata": {
    "id": "zlx0sGVzDTLp"
   },
   "source": [
    "Для датасета CIFAR10 лучший показатель метрики достигается при количестве нейронов в каждом скрытом слое равном 100. Касательно зависимости метрики от количества эпох обучения хочется заметить, что метрика начинает уменьшаться после 1-3 эпох. Данный факт может говорить о возможном переобучении модели. Также метрика достигает всего-то 0.22 максимально. Это указывает о плохом потенциале использования архитектуры перцептрона для решения задачи кларификации датасета CIFAR10. Метрику могло бы поднять добавление сверхточных слоев и макспулингов."
   ]
  }
 ],
 "metadata": {
  "accelerator": "GPU",
  "colab": {
   "name": "pytorch.ipynb",
   "provenance": []
  },
  "kernelspec": {
   "display_name": "Python 3 (ipykernel)",
   "language": "python",
   "name": "python3"
  },
  "language_info": {
   "codemirror_mode": {
    "name": "ipython",
    "version": 3
   },
   "file_extension": ".py",
   "mimetype": "text/x-python",
   "name": "python",
   "nbconvert_exporter": "python",
   "pygments_lexer": "ipython3",
   "version": "3.9.13"
  }
 },
 "nbformat": 4,
 "nbformat_minor": 5
}
